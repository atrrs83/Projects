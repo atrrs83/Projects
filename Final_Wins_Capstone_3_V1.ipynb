{
  "nbformat": 4,
  "nbformat_minor": 0,
  "metadata": {
    "colab": {
      "name": "Final - Wins_Capstone 3_V1.ipynb",
      "provenance": []
    },
    "kernelspec": {
      "name": "python3",
      "display_name": "Python 3"
    },
    "language_info": {
      "name": "python"
    }
  },
  "cells": [
    {
      "cell_type": "markdown",
      "source": [
        "#Reaching the magical plateau\n",
        "\n",
        "Major League Baseball franchise's are looking for whatever advantage possible to get to the world series.\n",
        "\n",
        "[\"Moneyball\"](https://en.wikipedia.org/wiki/Moneyball_(film)), has helped conceptualized the importance of gathering and analyizing data for the MLB.\n",
        "\n",
        "What does this mean?\n",
        "\n",
        "For the unintiated, [\"Moneyball\"](https://en.wikipedia.org/wiki/Moneyball_(film)) popularized  Sabermateric principles, essentially utilizing a quantitiative approach to baseball applying mathematical and statistical analysis of baseball records to evaluate players past preformance and predict future preformance.\n",
        "\n",
        "#How can we achive a winning season?\n",
        "\n",
        "We want to look at our teams baseball players and determine if the following hypotheses in relation to their stats.\n",
        "\n",
        "To help increase our win rate I have two hypotheses to review:\n",
        "\n",
        "1. There is no significant difference in wins based on ERA (earned run avg.)\n",
        "\n",
        "    Ho: μ1-μ2=0\n",
        "\n",
        "    Ha: μ1-μ2≠0\n",
        "2. There is no significant difference in Wins based on OBP (On-base Percentage)\n",
        "\n",
        "    Ho: μ1-μ2=0\n",
        "\n",
        "    Ha: μ1-μ2≠0\n",
        "\n",
        "What is an Earned Run Average (ERA) and why is it important?\n",
        "\n",
        "\n",
        "*   ERA represents a players number of earned runs a pitcher allowes per nine innings iwhout the aid of an error or passed ball.\n",
        "*  What does this mean? The ERA tells us how well a pitcher prevented runs from scoring.\n",
        "\n",
        "\n",
        "\n",
        "What is an On-base Percentage (OBP) and why is it important?\n",
        "\n",
        "\n",
        "*   OBP referes a baseball players frequency of reaching a base.\n",
        "*   What does this mean? A hitter wants to hit the pitch and score.  OBP provides insight on which hitters are more successful with this goal\n",
        "\n",
        "\n"
      ],
      "metadata": {
        "id": "1MCGP_LtZXhP"
      }
    },
    {
      "cell_type": "markdown",
      "source": [
        "#What data are we using to review these hypotheses?\n",
        "\n",
        "\n",
        "[Teams.csv](https://drive.google.com/file/d/1k7ebTptvyWYYCB6Vjc-rapS33x8Minc_/view?usp=sharing) from [Sean Lahman's Baseball Database](https://www.seanlahman.com/baseball-archive/statistics/)\n",
        "\n",
        "Utlizing data between 1976 and 2019\n",
        "Omitted 2020 data due to season being 60 games vs standard 162 games\n",
        "\n",
        "Fields used within dataframe:\n",
        "\n",
        "\n",
        "*   W - Wins per team\n",
        "\n",
        "*   ERA -Earned Run Average\n",
        "*   H - Hits (at plate)\n",
        "\n",
        "\n",
        "*   BB - Walk to base\n",
        "\n",
        "*   AB - At Bat \n",
        "*   SF - Sacrifice Flies \n",
        "\n",
        "*   HBP - Hit by pitch \n",
        "\n",
        "Fields created that are not part of the dataset:\n",
        "\n",
        "\n",
        "*   OBP - On Base Percentage"
      ],
      "metadata": {
        "id": "ZzpQY21FZceJ"
      }
    },
    {
      "cell_type": "code",
      "execution_count": null,
      "metadata": {
        "colab": {
          "base_uri": "https://localhost:8080/"
        },
        "id": "R1DYxEC0YZPJ",
        "outputId": "649d8b78-f008-41eb-c2cb-7517f995ebe0"
      },
      "outputs": [
        {
          "output_type": "stream",
          "name": "stdout",
          "text": [
            "Mounted at /content/gdrive\n"
          ]
        }
      ],
      "source": [
        "#connect to google drive\n",
        "from google.colab import drive\n",
        "drive.mount('/content/gdrive')"
      ]
    },
    {
      "cell_type": "code",
      "source": [
        "#import libraries\n",
        "import pandas as pd\n",
        "from scipy import stats\n",
        "import seaborn as sns\n",
        "sns.set()\n",
        "import matplotlib.pyplot as plt\n",
        "import warnings\n",
        "warnings.filterwarnings(\"ignore\")\n",
        "\n",
        "df = pd.read_csv('/content/gdrive/My Drive/Thinkful/Capstone_3/Stats.csv')"
      ],
      "metadata": {
        "id": "aJoE7-_IYt61"
      },
      "execution_count": null,
      "outputs": []
    },
    {
      "cell_type": "code",
      "source": [
        "df.info()"
      ],
      "metadata": {
        "colab": {
          "base_uri": "https://localhost:8080/"
        },
        "id": "fMU49fUiY-Ww",
        "outputId": "575e8e19-285e-4c57-8157-8cfba77bcbc3"
      },
      "execution_count": null,
      "outputs": [
        {
          "output_type": "stream",
          "name": "stdout",
          "text": [
            "<class 'pandas.core.frame.DataFrame'>\n",
            "RangeIndex: 1158 entries, 0 to 1157\n",
            "Data columns (total 48 columns):\n",
            " #   Column          Non-Null Count  Dtype  \n",
            "---  ------          --------------  -----  \n",
            " 0   yearID          1158 non-null   int64  \n",
            " 1   lgID            1158 non-null   object \n",
            " 2   teamID          1158 non-null   object \n",
            " 3   franchID        1158 non-null   object \n",
            " 4   divID           1158 non-null   object \n",
            " 5   Rank            1158 non-null   int64  \n",
            " 6   G               1158 non-null   int64  \n",
            " 7   Ghome           1158 non-null   int64  \n",
            " 8   W               1158 non-null   int64  \n",
            " 9   L               1158 non-null   int64  \n",
            " 10  DivWin          1158 non-null   object \n",
            " 11  WCWin           716 non-null    object \n",
            " 12  LgWin           1158 non-null   object \n",
            " 13  WSWin           1158 non-null   object \n",
            " 14  R               1158 non-null   int64  \n",
            " 15  AB              1158 non-null   int64  \n",
            " 16  H               1158 non-null   int64  \n",
            " 17  2B              1158 non-null   int64  \n",
            " 18  3B              1158 non-null   int64  \n",
            " 19  HR              1158 non-null   int64  \n",
            " 20  BB              1158 non-null   int64  \n",
            " 21  SO              1158 non-null   int64  \n",
            " 22  SB              1158 non-null   int64  \n",
            " 23  CS              1158 non-null   int64  \n",
            " 24  HBP             1158 non-null   int64  \n",
            " 25  SF              1158 non-null   int64  \n",
            " 26  RA              1158 non-null   int64  \n",
            " 27  ER              1158 non-null   int64  \n",
            " 28  ERA             1158 non-null   float64\n",
            " 29  CG              1158 non-null   int64  \n",
            " 30  SHO             1158 non-null   int64  \n",
            " 31  SV              1158 non-null   int64  \n",
            " 32  IPouts          1158 non-null   int64  \n",
            " 33  HA              1158 non-null   int64  \n",
            " 34  HRA             1158 non-null   int64  \n",
            " 35  BBA             1158 non-null   int64  \n",
            " 36  SOA             1158 non-null   int64  \n",
            " 37  E               1158 non-null   int64  \n",
            " 38  DP              1158 non-null   int64  \n",
            " 39  FP              1158 non-null   float64\n",
            " 40  name            1158 non-null   object \n",
            " 41  park            1158 non-null   object \n",
            " 42  attendance      1158 non-null   int64  \n",
            " 43  BPF             1158 non-null   int64  \n",
            " 44  PPF             1158 non-null   int64  \n",
            " 45  teamIDBR        1158 non-null   object \n",
            " 46  teamIDlahman45  1158 non-null   object \n",
            " 47  teamIDretro     1158 non-null   object \n",
            "dtypes: float64(2), int64(33), object(13)\n",
            "memory usage: 434.4+ KB\n"
          ]
        }
      ]
    },
    {
      "cell_type": "markdown",
      "source": [
        "#Determining OBP"
      ],
      "metadata": {
        "id": "Wl-o_op6ZmJK"
      }
    },
    {
      "cell_type": "code",
      "source": [
        "OBP_df = df.assign(OBP = (df.H + df.BB + df.HBP)/(df.AB + df.BB + df.HBP + df.SF))\n",
        "OBP_df.head"
      ],
      "metadata": {
        "colab": {
          "base_uri": "https://localhost:8080/"
        },
        "id": "nm070MXPZFRh",
        "outputId": "7e429064-dd04-4683-ce7b-d342a5d247cc"
      },
      "execution_count": null,
      "outputs": [
        {
          "output_type": "execute_result",
          "data": {
            "text/plain": [
              "<bound method NDFrame.head of       yearID lgID teamID franchID  ... teamIDBR  teamIDlahman45  teamIDretro       OBP\n",
              "0       1976   AL    CLE      CLE  ...      CLE             CLE          CLE  0.320865\n",
              "1       1976   AL    NYA      NYY  ...      NYY             NYA          NYA  0.327710\n",
              "2       1976   AL    CHA      CHW  ...      CHW             CHA          CHA  0.314347\n",
              "3       1976   AL    DET      DET  ...      DET             DET          DET  0.315137\n",
              "4       1976   AL    ML4      MIL  ...      MIL             MIL          MIL  0.311141\n",
              "...      ...  ...    ...      ...  ...      ...             ...          ...       ...\n",
              "1153    2019   NL    SLN      STL  ...      STL             SLN          SLN  0.322122\n",
              "1154    2019   AL    TBA      TBD  ...      TBR             TBA          TBA  0.325315\n",
              "1155    2019   AL    TEX      TEX  ...      TEX             TEX          TEX  0.319321\n",
              "1156    2019   AL    TOR      TOR  ...      TOR             TOR          TOR  0.305021\n",
              "1157    2019   NL    WAS      WSN  ...      WSN             MON          WAS  0.341695\n",
              "\n",
              "[1158 rows x 49 columns]>"
            ]
          },
          "metadata": {},
          "execution_count": 4
        }
      ]
    },
    {
      "cell_type": "markdown",
      "source": [
        "#Correlation\n",
        "\n",
        "Degree of coordination with OBP and ERA to Wins"
      ],
      "metadata": {
        "id": "1ks2nfkHZ9Yi"
      }
    },
    {
      "cell_type": "code",
      "source": [
        "OBP_df[['W', 'OBP', 'ERA']].corr()"
      ],
      "metadata": {
        "colab": {
          "base_uri": "https://localhost:8080/",
          "height": 143
        },
        "id": "lfohpDqLZ86B",
        "outputId": "342c1293-c978-4aa5-ff54-834b59feb88d"
      },
      "execution_count": null,
      "outputs": [
        {
          "output_type": "execute_result",
          "data": {
            "text/html": [
              "\n",
              "  <div id=\"df-1090d9dd-f1e4-4fec-9757-b505fcfd641f\">\n",
              "    <div class=\"colab-df-container\">\n",
              "      <div>\n",
              "<style scoped>\n",
              "    .dataframe tbody tr th:only-of-type {\n",
              "        vertical-align: middle;\n",
              "    }\n",
              "\n",
              "    .dataframe tbody tr th {\n",
              "        vertical-align: top;\n",
              "    }\n",
              "\n",
              "    .dataframe thead th {\n",
              "        text-align: right;\n",
              "    }\n",
              "</style>\n",
              "<table border=\"1\" class=\"dataframe\">\n",
              "  <thead>\n",
              "    <tr style=\"text-align: right;\">\n",
              "      <th></th>\n",
              "      <th>W</th>\n",
              "      <th>OBP</th>\n",
              "      <th>ERA</th>\n",
              "    </tr>\n",
              "  </thead>\n",
              "  <tbody>\n",
              "    <tr>\n",
              "      <th>W</th>\n",
              "      <td>1.000000</td>\n",
              "      <td>0.521421</td>\n",
              "      <td>-0.559978</td>\n",
              "    </tr>\n",
              "    <tr>\n",
              "      <th>OBP</th>\n",
              "      <td>0.521421</td>\n",
              "      <td>1.000000</td>\n",
              "      <td>0.197782</td>\n",
              "    </tr>\n",
              "    <tr>\n",
              "      <th>ERA</th>\n",
              "      <td>-0.559978</td>\n",
              "      <td>0.197782</td>\n",
              "      <td>1.000000</td>\n",
              "    </tr>\n",
              "  </tbody>\n",
              "</table>\n",
              "</div>\n",
              "      <button class=\"colab-df-convert\" onclick=\"convertToInteractive('df-1090d9dd-f1e4-4fec-9757-b505fcfd641f')\"\n",
              "              title=\"Convert this dataframe to an interactive table.\"\n",
              "              style=\"display:none;\">\n",
              "        \n",
              "  <svg xmlns=\"http://www.w3.org/2000/svg\" height=\"24px\"viewBox=\"0 0 24 24\"\n",
              "       width=\"24px\">\n",
              "    <path d=\"M0 0h24v24H0V0z\" fill=\"none\"/>\n",
              "    <path d=\"M18.56 5.44l.94 2.06.94-2.06 2.06-.94-2.06-.94-.94-2.06-.94 2.06-2.06.94zm-11 1L8.5 8.5l.94-2.06 2.06-.94-2.06-.94L8.5 2.5l-.94 2.06-2.06.94zm10 10l.94 2.06.94-2.06 2.06-.94-2.06-.94-.94-2.06-.94 2.06-2.06.94z\"/><path d=\"M17.41 7.96l-1.37-1.37c-.4-.4-.92-.59-1.43-.59-.52 0-1.04.2-1.43.59L10.3 9.45l-7.72 7.72c-.78.78-.78 2.05 0 2.83L4 21.41c.39.39.9.59 1.41.59.51 0 1.02-.2 1.41-.59l7.78-7.78 2.81-2.81c.8-.78.8-2.07 0-2.86zM5.41 20L4 18.59l7.72-7.72 1.47 1.35L5.41 20z\"/>\n",
              "  </svg>\n",
              "      </button>\n",
              "      \n",
              "  <style>\n",
              "    .colab-df-container {\n",
              "      display:flex;\n",
              "      flex-wrap:wrap;\n",
              "      gap: 12px;\n",
              "    }\n",
              "\n",
              "    .colab-df-convert {\n",
              "      background-color: #E8F0FE;\n",
              "      border: none;\n",
              "      border-radius: 50%;\n",
              "      cursor: pointer;\n",
              "      display: none;\n",
              "      fill: #1967D2;\n",
              "      height: 32px;\n",
              "      padding: 0 0 0 0;\n",
              "      width: 32px;\n",
              "    }\n",
              "\n",
              "    .colab-df-convert:hover {\n",
              "      background-color: #E2EBFA;\n",
              "      box-shadow: 0px 1px 2px rgba(60, 64, 67, 0.3), 0px 1px 3px 1px rgba(60, 64, 67, 0.15);\n",
              "      fill: #174EA6;\n",
              "    }\n",
              "\n",
              "    [theme=dark] .colab-df-convert {\n",
              "      background-color: #3B4455;\n",
              "      fill: #D2E3FC;\n",
              "    }\n",
              "\n",
              "    [theme=dark] .colab-df-convert:hover {\n",
              "      background-color: #434B5C;\n",
              "      box-shadow: 0px 1px 3px 1px rgba(0, 0, 0, 0.15);\n",
              "      filter: drop-shadow(0px 1px 2px rgba(0, 0, 0, 0.3));\n",
              "      fill: #FFFFFF;\n",
              "    }\n",
              "  </style>\n",
              "\n",
              "      <script>\n",
              "        const buttonEl =\n",
              "          document.querySelector('#df-1090d9dd-f1e4-4fec-9757-b505fcfd641f button.colab-df-convert');\n",
              "        buttonEl.style.display =\n",
              "          google.colab.kernel.accessAllowed ? 'block' : 'none';\n",
              "\n",
              "        async function convertToInteractive(key) {\n",
              "          const element = document.querySelector('#df-1090d9dd-f1e4-4fec-9757-b505fcfd641f');\n",
              "          const dataTable =\n",
              "            await google.colab.kernel.invokeFunction('convertToInteractive',\n",
              "                                                     [key], {});\n",
              "          if (!dataTable) return;\n",
              "\n",
              "          const docLinkHtml = 'Like what you see? Visit the ' +\n",
              "            '<a target=\"_blank\" href=https://colab.research.google.com/notebooks/data_table.ipynb>data table notebook</a>'\n",
              "            + ' to learn more about interactive tables.';\n",
              "          element.innerHTML = '';\n",
              "          dataTable['output_type'] = 'display_data';\n",
              "          await google.colab.output.renderOutput(dataTable, element);\n",
              "          const docLink = document.createElement('div');\n",
              "          docLink.innerHTML = docLinkHtml;\n",
              "          element.appendChild(docLink);\n",
              "        }\n",
              "      </script>\n",
              "    </div>\n",
              "  </div>\n",
              "  "
            ],
            "text/plain": [
              "            W       OBP       ERA\n",
              "W    1.000000  0.521421 -0.559978\n",
              "OBP  0.521421  1.000000  0.197782\n",
              "ERA -0.559978  0.197782  1.000000"
            ]
          },
          "metadata": {},
          "execution_count": 5
        }
      ]
    },
    {
      "cell_type": "markdown",
      "source": [
        "Positivie correlation between Wins and OBP.\n",
        "\n",
        "*   Positivie correlation between Wins and OBP.\n",
        "* Negative correlation between Wins and ERA\n",
        "\n",
        "Reject null hypothesis.\n",
        "\n",
        "Ideal stats = higher OBP and lower ERA\n",
        "\n"
      ],
      "metadata": {
        "id": "x0G2WfRMbIGI"
      }
    },
    {
      "cell_type": "code",
      "source": [
        "stats.pearsonr(OBP_df['W'], OBP_df['OBP'])"
      ],
      "metadata": {
        "colab": {
          "base_uri": "https://localhost:8080/"
        },
        "id": "6ommk6swbtJn",
        "outputId": "68d4fd28-1877-4047-9180-6c996e9af046"
      },
      "execution_count": null,
      "outputs": [
        {
          "output_type": "execute_result",
          "data": {
            "text/plain": [
              "(0.5214210496991046, 1.0127955506396897e-81)"
            ]
          },
          "metadata": {},
          "execution_count": 6
        }
      ]
    },
    {
      "cell_type": "markdown",
      "source": [
        "p-value <.001 - Strong linear relationship between two datasets\n",
        "\n"
      ],
      "metadata": {
        "id": "YajuJ01eb-1Q"
      }
    },
    {
      "cell_type": "code",
      "source": [
        "stats.pearsonr(OBP_df['W'], OBP_df['ERA'])"
      ],
      "metadata": {
        "colab": {
          "base_uri": "https://localhost:8080/"
        },
        "id": "1kXLtU09cqh3",
        "outputId": "10ed5727-a361-451b-d32c-7b674f8ecaaa"
      },
      "execution_count": null,
      "outputs": [
        {
          "output_type": "execute_result",
          "data": {
            "text/plain": [
              "(-0.5599778916612145, 1.486274931967123e-96)"
            ]
          },
          "metadata": {},
          "execution_count": 7
        }
      ]
    },
    {
      "cell_type": "markdown",
      "source": [
        "p-value <.001\n",
        "\n",
        "Strong linear relationship between two datasets"
      ],
      "metadata": {
        "id": "9AQ_SYwccrrW"
      }
    },
    {
      "cell_type": "markdown",
      "source": [
        "#Win/Loss\n",
        "\n",
        "Testing ERA and OBP of teamins with more and less than 81 win median\n",
        "\n",
        "> 162 games per season\n",
        "\n"
      ],
      "metadata": {
        "id": "oeGLQ0Bhbs-n"
      }
    },
    {
      "cell_type": "markdown",
      "source": [
        "Creating a DataFrame with teams that won more than 81 games within a season"
      ],
      "metadata": {
        "id": "ix97LoPcjCCE"
      }
    },
    {
      "cell_type": "code",
      "source": [
        "o_81 = OBP_df.iloc[(OBP_df['W'] > 81).values]\n",
        "o_81.head"
      ],
      "metadata": {
        "colab": {
          "base_uri": "https://localhost:8080/"
        },
        "id": "5bb2WHMWjB2X",
        "outputId": "3ea1846b-5f65-47c4-ef3a-52f790179cd0"
      },
      "execution_count": null,
      "outputs": [
        {
          "output_type": "execute_result",
          "data": {
            "text/plain": [
              "<bound method NDFrame.head of       yearID lgID teamID franchID  ... teamIDBR  teamIDlahman45  teamIDretro       OBP\n",
              "1       1976   AL    NYA      NYY  ...      NYY             NYA          NYA  0.327710\n",
              "5       1976   AL    OAK      OAK  ...      OAK             OAK          OAK  0.323413\n",
              "7       1976   AL    BAL      BAL  ...      BAL             BAL          BAL  0.309579\n",
              "8       1976   AL    BOS      BOS  ...      BOS             BOS          BOS  0.324152\n",
              "11      1976   NL    CIN      CIN  ...      CIN             CIN          CIN  0.356668\n",
              "...      ...  ...    ...      ...  ...      ...             ...          ...       ...\n",
              "1146    2019   NL    NYN      NYM  ...      NYM             NYN          NYN  0.328330\n",
              "1147    2019   AL    OAK      OAK  ...      OAK             OAK          OAK  0.327212\n",
              "1153    2019   NL    SLN      STL  ...      STL             SLN          SLN  0.322122\n",
              "1154    2019   AL    TBA      TBD  ...      TBR             TBA          TBA  0.325315\n",
              "1157    2019   NL    WAS      WSN  ...      WSN             MON          WAS  0.341695\n",
              "\n",
              "[570 rows x 49 columns]>"
            ]
          },
          "metadata": {},
          "execution_count": 8
        }
      ]
    },
    {
      "cell_type": "markdown",
      "source": [
        "What is the mean of the ranage of data?"
      ],
      "metadata": {
        "id": "nDUW38VAkhQ8"
      }
    },
    {
      "cell_type": "code",
      "source": [
        "o_81[['W', 'OBP', 'ERA']].describe()"
      ],
      "metadata": {
        "colab": {
          "base_uri": "https://localhost:8080/",
          "height": 300
        },
        "id": "1GhaKuhukmwh",
        "outputId": "618de98f-b5db-4751-e3dd-68d4e8bb5b0c"
      },
      "execution_count": null,
      "outputs": [
        {
          "output_type": "execute_result",
          "data": {
            "text/html": [
              "\n",
              "  <div id=\"df-ba039312-7b58-4b13-a438-32d4d8e15c0c\">\n",
              "    <div class=\"colab-df-container\">\n",
              "      <div>\n",
              "<style scoped>\n",
              "    .dataframe tbody tr th:only-of-type {\n",
              "        vertical-align: middle;\n",
              "    }\n",
              "\n",
              "    .dataframe tbody tr th {\n",
              "        vertical-align: top;\n",
              "    }\n",
              "\n",
              "    .dataframe thead th {\n",
              "        text-align: right;\n",
              "    }\n",
              "</style>\n",
              "<table border=\"1\" class=\"dataframe\">\n",
              "  <thead>\n",
              "    <tr style=\"text-align: right;\">\n",
              "      <th></th>\n",
              "      <th>W</th>\n",
              "      <th>OBP</th>\n",
              "      <th>ERA</th>\n",
              "    </tr>\n",
              "  </thead>\n",
              "  <tbody>\n",
              "    <tr>\n",
              "      <th>count</th>\n",
              "      <td>570.000000</td>\n",
              "      <td>570.000000</td>\n",
              "      <td>570.000000</td>\n",
              "    </tr>\n",
              "    <tr>\n",
              "      <th>mean</th>\n",
              "      <td>90.540351</td>\n",
              "      <td>0.333598</td>\n",
              "      <td>3.874123</td>\n",
              "    </tr>\n",
              "    <tr>\n",
              "      <th>std</th>\n",
              "      <td>5.971163</td>\n",
              "      <td>0.013110</td>\n",
              "      <td>0.446909</td>\n",
              "    </tr>\n",
              "    <tr>\n",
              "      <th>min</th>\n",
              "      <td>82.000000</td>\n",
              "      <td>0.300337</td>\n",
              "      <td>2.910000</td>\n",
              "    </tr>\n",
              "    <tr>\n",
              "      <th>25%</th>\n",
              "      <td>86.000000</td>\n",
              "      <td>0.324250</td>\n",
              "      <td>3.562500</td>\n",
              "    </tr>\n",
              "    <tr>\n",
              "      <th>50%</th>\n",
              "      <td>90.000000</td>\n",
              "      <td>0.332693</td>\n",
              "      <td>3.830000</td>\n",
              "    </tr>\n",
              "    <tr>\n",
              "      <th>75%</th>\n",
              "      <td>95.000000</td>\n",
              "      <td>0.341530</td>\n",
              "      <td>4.160000</td>\n",
              "    </tr>\n",
              "    <tr>\n",
              "      <th>max</th>\n",
              "      <td>116.000000</td>\n",
              "      <td>0.373442</td>\n",
              "      <td>5.590000</td>\n",
              "    </tr>\n",
              "  </tbody>\n",
              "</table>\n",
              "</div>\n",
              "      <button class=\"colab-df-convert\" onclick=\"convertToInteractive('df-ba039312-7b58-4b13-a438-32d4d8e15c0c')\"\n",
              "              title=\"Convert this dataframe to an interactive table.\"\n",
              "              style=\"display:none;\">\n",
              "        \n",
              "  <svg xmlns=\"http://www.w3.org/2000/svg\" height=\"24px\"viewBox=\"0 0 24 24\"\n",
              "       width=\"24px\">\n",
              "    <path d=\"M0 0h24v24H0V0z\" fill=\"none\"/>\n",
              "    <path d=\"M18.56 5.44l.94 2.06.94-2.06 2.06-.94-2.06-.94-.94-2.06-.94 2.06-2.06.94zm-11 1L8.5 8.5l.94-2.06 2.06-.94-2.06-.94L8.5 2.5l-.94 2.06-2.06.94zm10 10l.94 2.06.94-2.06 2.06-.94-2.06-.94-.94-2.06-.94 2.06-2.06.94z\"/><path d=\"M17.41 7.96l-1.37-1.37c-.4-.4-.92-.59-1.43-.59-.52 0-1.04.2-1.43.59L10.3 9.45l-7.72 7.72c-.78.78-.78 2.05 0 2.83L4 21.41c.39.39.9.59 1.41.59.51 0 1.02-.2 1.41-.59l7.78-7.78 2.81-2.81c.8-.78.8-2.07 0-2.86zM5.41 20L4 18.59l7.72-7.72 1.47 1.35L5.41 20z\"/>\n",
              "  </svg>\n",
              "      </button>\n",
              "      \n",
              "  <style>\n",
              "    .colab-df-container {\n",
              "      display:flex;\n",
              "      flex-wrap:wrap;\n",
              "      gap: 12px;\n",
              "    }\n",
              "\n",
              "    .colab-df-convert {\n",
              "      background-color: #E8F0FE;\n",
              "      border: none;\n",
              "      border-radius: 50%;\n",
              "      cursor: pointer;\n",
              "      display: none;\n",
              "      fill: #1967D2;\n",
              "      height: 32px;\n",
              "      padding: 0 0 0 0;\n",
              "      width: 32px;\n",
              "    }\n",
              "\n",
              "    .colab-df-convert:hover {\n",
              "      background-color: #E2EBFA;\n",
              "      box-shadow: 0px 1px 2px rgba(60, 64, 67, 0.3), 0px 1px 3px 1px rgba(60, 64, 67, 0.15);\n",
              "      fill: #174EA6;\n",
              "    }\n",
              "\n",
              "    [theme=dark] .colab-df-convert {\n",
              "      background-color: #3B4455;\n",
              "      fill: #D2E3FC;\n",
              "    }\n",
              "\n",
              "    [theme=dark] .colab-df-convert:hover {\n",
              "      background-color: #434B5C;\n",
              "      box-shadow: 0px 1px 3px 1px rgba(0, 0, 0, 0.15);\n",
              "      filter: drop-shadow(0px 1px 2px rgba(0, 0, 0, 0.3));\n",
              "      fill: #FFFFFF;\n",
              "    }\n",
              "  </style>\n",
              "\n",
              "      <script>\n",
              "        const buttonEl =\n",
              "          document.querySelector('#df-ba039312-7b58-4b13-a438-32d4d8e15c0c button.colab-df-convert');\n",
              "        buttonEl.style.display =\n",
              "          google.colab.kernel.accessAllowed ? 'block' : 'none';\n",
              "\n",
              "        async function convertToInteractive(key) {\n",
              "          const element = document.querySelector('#df-ba039312-7b58-4b13-a438-32d4d8e15c0c');\n",
              "          const dataTable =\n",
              "            await google.colab.kernel.invokeFunction('convertToInteractive',\n",
              "                                                     [key], {});\n",
              "          if (!dataTable) return;\n",
              "\n",
              "          const docLinkHtml = 'Like what you see? Visit the ' +\n",
              "            '<a target=\"_blank\" href=https://colab.research.google.com/notebooks/data_table.ipynb>data table notebook</a>'\n",
              "            + ' to learn more about interactive tables.';\n",
              "          element.innerHTML = '';\n",
              "          dataTable['output_type'] = 'display_data';\n",
              "          await google.colab.output.renderOutput(dataTable, element);\n",
              "          const docLink = document.createElement('div');\n",
              "          docLink.innerHTML = docLinkHtml;\n",
              "          element.appendChild(docLink);\n",
              "        }\n",
              "      </script>\n",
              "    </div>\n",
              "  </div>\n",
              "  "
            ],
            "text/plain": [
              "                W         OBP         ERA\n",
              "count  570.000000  570.000000  570.000000\n",
              "mean    90.540351    0.333598    3.874123\n",
              "std      5.971163    0.013110    0.446909\n",
              "min     82.000000    0.300337    2.910000\n",
              "25%     86.000000    0.324250    3.562500\n",
              "50%     90.000000    0.332693    3.830000\n",
              "75%     95.000000    0.341530    4.160000\n",
              "max    116.000000    0.373442    5.590000"
            ]
          },
          "metadata": {},
          "execution_count": 9
        }
      ]
    },
    {
      "cell_type": "code",
      "source": [
        "ax = sns.distplot(o_81['ERA'])"
      ],
      "metadata": {
        "colab": {
          "base_uri": "https://localhost:8080/",
          "height": 288
        },
        "id": "8vqRKfc6k-Nf",
        "outputId": "346aebf7-1cd3-4faa-8b8c-ba4c004c8a12"
      },
      "execution_count": null,
      "outputs": [
        {
          "output_type": "display_data",
          "data": {
            "image/png": "[encoded data removed]",
            "text/plain": [
              "<Figure size 432x288 with 1 Axes>"
            ]
          },
          "metadata": {}
        }
      ]
    },
    {
      "cell_type": "code",
      "source": [
        "ax = sns.distplot(o_81['OBP'])"
      ],
      "metadata": {
        "colab": {
          "base_uri": "https://localhost:8080/",
          "height": 285
        },
        "id": "NFTOq0iElEmL",
        "outputId": "5425d5ec-0e23-4dee-87d0-cf860ef3b54d"
      },
      "execution_count": null,
      "outputs": [
        {
          "output_type": "display_data",
          "data": {
            "image/png": "[encoded data removed]",
            "text/plain": [
              "<Figure size 432x288 with 1 Axes>"
            ]
          },
          "metadata": {}
        }
      ]
    },
    {
      "cell_type": "markdown",
      "source": [
        "Creating a DataFrame with teams that won less than 81 games within a season"
      ],
      "metadata": {
        "id": "WlAO8PBbe7u3"
      }
    },
    {
      "cell_type": "code",
      "source": [
        "u_81 = OBP_df.iloc[(OBP_df['W'] < 81).values]\n",
        "u_81.head"
      ],
      "metadata": {
        "colab": {
          "base_uri": "https://localhost:8080/"
        },
        "id": "IgytXL1le5rB",
        "outputId": "72166e19-d4bf-4f70-d5bc-d7a2e79d8bfa"
      },
      "execution_count": null,
      "outputs": [
        {
          "output_type": "execute_result",
          "data": {
            "text/plain": [
              "<bound method NDFrame.head of       yearID lgID teamID franchID  ... teamIDBR  teamIDlahman45  teamIDretro       OBP\n",
              "2       1976   AL    CHA      CHW  ...      CHW             CHA          CHA  0.314347\n",
              "3       1976   AL    DET      DET  ...      DET             DET          DET  0.315137\n",
              "4       1976   AL    ML4      MIL  ...      MIL             MIL          MIL  0.311141\n",
              "6       1976   NL    ATL      ATL  ...      ATL             ATL          ATL  0.319500\n",
              "9       1976   AL    CAL      ANA  ...      CAL             CAL          CAL  0.306374\n",
              "...      ...  ...    ...      ...  ...      ...             ...          ...       ...\n",
              "1150    2019   NL    SDN      SDP  ...      SDP             SDN          SDN  0.307641\n",
              "1151    2019   AL    SEA      SEA  ...      SEA             SEA          SEA  0.315543\n",
              "1152    2019   NL    SFN      SFG  ...      SFG             SFN          SFN  0.302148\n",
              "1155    2019   AL    TEX      TEX  ...      TEX             TEX          TEX  0.319321\n",
              "1156    2019   AL    TOR      TOR  ...      TOR             TOR          TOR  0.305021\n",
              "\n",
              "[555 rows x 49 columns]>"
            ]
          },
          "metadata": {},
          "execution_count": 12
        }
      ]
    },
    {
      "cell_type": "markdown",
      "source": [
        "What is the mean of the range of data?"
      ],
      "metadata": {
        "id": "6gZDgmKHfcd2"
      }
    },
    {
      "cell_type": "code",
      "source": [
        "u_81[['W', 'ERA', 'OBP']].describe()"
      ],
      "metadata": {
        "colab": {
          "base_uri": "https://localhost:8080/",
          "height": 300
        },
        "id": "9FaF4EKifhXo",
        "outputId": "aac31b8d-7102-48ad-832a-c117c3313812"
      },
      "execution_count": null,
      "outputs": [
        {
          "output_type": "execute_result",
          "data": {
            "text/html": [
              "\n",
              "  <div id=\"df-5c135336-cf87-4f23-99db-490cb0547820\">\n",
              "    <div class=\"colab-df-container\">\n",
              "      <div>\n",
              "<style scoped>\n",
              "    .dataframe tbody tr th:only-of-type {\n",
              "        vertical-align: middle;\n",
              "    }\n",
              "\n",
              "    .dataframe tbody tr th {\n",
              "        vertical-align: top;\n",
              "    }\n",
              "\n",
              "    .dataframe thead th {\n",
              "        text-align: right;\n",
              "    }\n",
              "</style>\n",
              "<table border=\"1\" class=\"dataframe\">\n",
              "  <thead>\n",
              "    <tr style=\"text-align: right;\">\n",
              "      <th></th>\n",
              "      <th>W</th>\n",
              "      <th>ERA</th>\n",
              "      <th>OBP</th>\n",
              "    </tr>\n",
              "  </thead>\n",
              "  <tbody>\n",
              "    <tr>\n",
              "      <th>count</th>\n",
              "      <td>555.000000</td>\n",
              "      <td>555.000000</td>\n",
              "      <td>555.000000</td>\n",
              "    </tr>\n",
              "    <tr>\n",
              "      <th>mean</th>\n",
              "      <td>71.063063</td>\n",
              "      <td>4.412486</td>\n",
              "      <td>0.321221</td>\n",
              "    </tr>\n",
              "    <tr>\n",
              "      <th>std</th>\n",
              "      <td>6.620010</td>\n",
              "      <td>0.518751</td>\n",
              "      <td>0.012426</td>\n",
              "    </tr>\n",
              "    <tr>\n",
              "      <th>min</th>\n",
              "      <td>43.000000</td>\n",
              "      <td>2.950000</td>\n",
              "      <td>0.291364</td>\n",
              "    </tr>\n",
              "    <tr>\n",
              "      <th>25%</th>\n",
              "      <td>67.000000</td>\n",
              "      <td>4.045000</td>\n",
              "      <td>0.312739</td>\n",
              "    </tr>\n",
              "    <tr>\n",
              "      <th>50%</th>\n",
              "      <td>72.000000</td>\n",
              "      <td>4.410000</td>\n",
              "      <td>0.320665</td>\n",
              "    </tr>\n",
              "    <tr>\n",
              "      <th>75%</th>\n",
              "      <td>76.000000</td>\n",
              "      <td>4.770000</td>\n",
              "      <td>0.328951</td>\n",
              "    </tr>\n",
              "    <tr>\n",
              "      <th>max</th>\n",
              "      <td>80.000000</td>\n",
              "      <td>6.380000</td>\n",
              "      <td>0.360576</td>\n",
              "    </tr>\n",
              "  </tbody>\n",
              "</table>\n",
              "</div>\n",
              "      <button class=\"colab-df-convert\" onclick=\"convertToInteractive('df-5c135336-cf87-4f23-99db-490cb0547820')\"\n",
              "              title=\"Convert this dataframe to an interactive table.\"\n",
              "              style=\"display:none;\">\n",
              "        \n",
              "  <svg xmlns=\"http://www.w3.org/2000/svg\" height=\"24px\"viewBox=\"0 0 24 24\"\n",
              "       width=\"24px\">\n",
              "    <path d=\"M0 0h24v24H0V0z\" fill=\"none\"/>\n",
              "    <path d=\"M18.56 5.44l.94 2.06.94-2.06 2.06-.94-2.06-.94-.94-2.06-.94 2.06-2.06.94zm-11 1L8.5 8.5l.94-2.06 2.06-.94-2.06-.94L8.5 2.5l-.94 2.06-2.06.94zm10 10l.94 2.06.94-2.06 2.06-.94-2.06-.94-.94-2.06-.94 2.06-2.06.94z\"/><path d=\"M17.41 7.96l-1.37-1.37c-.4-.4-.92-.59-1.43-.59-.52 0-1.04.2-1.43.59L10.3 9.45l-7.72 7.72c-.78.78-.78 2.05 0 2.83L4 21.41c.39.39.9.59 1.41.59.51 0 1.02-.2 1.41-.59l7.78-7.78 2.81-2.81c.8-.78.8-2.07 0-2.86zM5.41 20L4 18.59l7.72-7.72 1.47 1.35L5.41 20z\"/>\n",
              "  </svg>\n",
              "      </button>\n",
              "      \n",
              "  <style>\n",
              "    .colab-df-container {\n",
              "      display:flex;\n",
              "      flex-wrap:wrap;\n",
              "      gap: 12px;\n",
              "    }\n",
              "\n",
              "    .colab-df-convert {\n",
              "      background-color: #E8F0FE;\n",
              "      border: none;\n",
              "      border-radius: 50%;\n",
              "      cursor: pointer;\n",
              "      display: none;\n",
              "      fill: #1967D2;\n",
              "      height: 32px;\n",
              "      padding: 0 0 0 0;\n",
              "      width: 32px;\n",
              "    }\n",
              "\n",
              "    .colab-df-convert:hover {\n",
              "      background-color: #E2EBFA;\n",
              "      box-shadow: 0px 1px 2px rgba(60, 64, 67, 0.3), 0px 1px 3px 1px rgba(60, 64, 67, 0.15);\n",
              "      fill: #174EA6;\n",
              "    }\n",
              "\n",
              "    [theme=dark] .colab-df-convert {\n",
              "      background-color: #3B4455;\n",
              "      fill: #D2E3FC;\n",
              "    }\n",
              "\n",
              "    [theme=dark] .colab-df-convert:hover {\n",
              "      background-color: #434B5C;\n",
              "      box-shadow: 0px 1px 3px 1px rgba(0, 0, 0, 0.15);\n",
              "      filter: drop-shadow(0px 1px 2px rgba(0, 0, 0, 0.3));\n",
              "      fill: #FFFFFF;\n",
              "    }\n",
              "  </style>\n",
              "\n",
              "      <script>\n",
              "        const buttonEl =\n",
              "          document.querySelector('#df-5c135336-cf87-4f23-99db-490cb0547820 button.colab-df-convert');\n",
              "        buttonEl.style.display =\n",
              "          google.colab.kernel.accessAllowed ? 'block' : 'none';\n",
              "\n",
              "        async function convertToInteractive(key) {\n",
              "          const element = document.querySelector('#df-5c135336-cf87-4f23-99db-490cb0547820');\n",
              "          const dataTable =\n",
              "            await google.colab.kernel.invokeFunction('convertToInteractive',\n",
              "                                                     [key], {});\n",
              "          if (!dataTable) return;\n",
              "\n",
              "          const docLinkHtml = 'Like what you see? Visit the ' +\n",
              "            '<a target=\"_blank\" href=https://colab.research.google.com/notebooks/data_table.ipynb>data table notebook</a>'\n",
              "            + ' to learn more about interactive tables.';\n",
              "          element.innerHTML = '';\n",
              "          dataTable['output_type'] = 'display_data';\n",
              "          await google.colab.output.renderOutput(dataTable, element);\n",
              "          const docLink = document.createElement('div');\n",
              "          docLink.innerHTML = docLinkHtml;\n",
              "          element.appendChild(docLink);\n",
              "        }\n",
              "      </script>\n",
              "    </div>\n",
              "  </div>\n",
              "  "
            ],
            "text/plain": [
              "                W         ERA         OBP\n",
              "count  555.000000  555.000000  555.000000\n",
              "mean    71.063063    4.412486    0.321221\n",
              "std      6.620010    0.518751    0.012426\n",
              "min     43.000000    2.950000    0.291364\n",
              "25%     67.000000    4.045000    0.312739\n",
              "50%     72.000000    4.410000    0.320665\n",
              "75%     76.000000    4.770000    0.328951\n",
              "max     80.000000    6.380000    0.360576"
            ]
          },
          "metadata": {},
          "execution_count": 13
        }
      ]
    },
    {
      "cell_type": "code",
      "source": [
        "ax = sns.distplot(u_81['ERA'])"
      ],
      "metadata": {
        "colab": {
          "base_uri": "https://localhost:8080/",
          "height": 285
        },
        "id": "QVa6t4aCiD3S",
        "outputId": "2de0cdf8-7976-4621-ba42-d5e04763d88c"
      },
      "execution_count": null,
      "outputs": [
        {
          "output_type": "display_data",
          "data": {
            "image/png": "[encoded data removed]",
            "text/plain": [
              "<Figure size 432x288 with 1 Axes>"
            ]
          },
          "metadata": {}
        }
      ]
    },
    {
      "cell_type": "code",
      "source": [
        "ax = sns.distplot(u_81['OBP'])"
      ],
      "metadata": {
        "colab": {
          "base_uri": "https://localhost:8080/",
          "height": 285
        },
        "id": "XIYHu1C1iSsQ",
        "outputId": "12bb5b60-109a-412d-d851-86bc2eaa6853"
      },
      "execution_count": null,
      "outputs": [
        {
          "output_type": "display_data",
          "data": {
            "image/png": "[encoded data removed]",
            "text/plain": [
              "<Figure size 432x288 with 1 Axes>"
            ]
          },
          "metadata": {}
        }
      ]
    },
    {
      "cell_type": "markdown",
      "source": [
        "#T-Test\n",
        "\n",
        "Testing relationship between teams with greater than 81 wins and teams with less than 81 wins"
      ],
      "metadata": {
        "id": "I5KPNcGalcnm"
      }
    },
    {
      "cell_type": "markdown",
      "source": [
        "OBP"
      ],
      "metadata": {
        "id": "xKJX136-llgE"
      }
    },
    {
      "cell_type": "code",
      "source": [
        "stats.ttest_ind(u_81['OBP'], o_81['OBP'])"
      ],
      "metadata": {
        "colab": {
          "base_uri": "https://localhost:8080/"
        },
        "id": "HhtvaUa6lcfk",
        "outputId": "9acc4180-d39f-45a7-cff9-96e0bd499d07"
      },
      "execution_count": null,
      "outputs": [
        {
          "output_type": "execute_result",
          "data": {
            "text/plain": [
              "Ttest_indResult(statistic=-16.24404944595227, pvalue=1.8649078305545513e-53)"
            ]
          },
          "metadata": {},
          "execution_count": 23
        }
      ]
    },
    {
      "cell_type": "markdown",
      "source": [
        "p-value <.001, reject the null hypothesis.\n",
        "\n",
        "Statistical differnce in OBP when comparing teams with more and less wins"
      ],
      "metadata": {
        "id": "7usiC3N7l8pj"
      }
    },
    {
      "cell_type": "markdown",
      "source": [
        "Plot = OBP > 81 wins"
      ],
      "metadata": {
        "id": "BVqZsuA0l8F_"
      }
    },
    {
      "cell_type": "code",
      "source": [
        "sns.boxplot(y='OBP', data=o_81)"
      ],
      "metadata": {
        "colab": {
          "base_uri": "https://localhost:8080/",
          "height": 265
        },
        "id": "py36lepkl7rX",
        "outputId": "e156e509-7e92-4ab1-d69b-3d14a24ec456"
      },
      "execution_count": null,
      "outputs": [
        {
          "output_type": "execute_result",
          "data": {
            "text/plain": [
              "<matplotlib.axes._subplots.AxesSubplot at 0x7fc47d01ced0>"
            ]
          },
          "metadata": {},
          "execution_count": 24
        },
        {
          "output_type": "display_data",
          "data": {
            "image/png": "[encoded data removed]",
            "text/plain": [
              "<Figure size 432x288 with 1 Axes>"
            ]
          },
          "metadata": {}
        }
      ]
    },
    {
      "cell_type": "markdown",
      "source": [
        "Difference with teams with more than 81 wins have a spread of .325 to .34"
      ],
      "metadata": {
        "id": "JxddC-etm9gW"
      }
    },
    {
      "cell_type": "markdown",
      "source": [
        "Plot = OBP < 81 wins"
      ],
      "metadata": {
        "id": "sibFceBZmi9A"
      }
    },
    {
      "cell_type": "code",
      "source": [
        "sns.boxplot(y='OBP', data=u_81)"
      ],
      "metadata": {
        "colab": {
          "base_uri": "https://localhost:8080/",
          "height": 265
        },
        "id": "ZEKPi7P5mRVd",
        "outputId": "bf2a63a8-31a1-4190-f99c-1bce7ab1f3dd"
      },
      "execution_count": null,
      "outputs": [
        {
          "output_type": "execute_result",
          "data": {
            "text/plain": [
              "<matplotlib.axes._subplots.AxesSubplot at 0x7fc47cfc7e10>"
            ]
          },
          "metadata": {},
          "execution_count": 25
        },
        {
          "output_type": "display_data",
          "data": {
            "image/png": "[encoded data removed]",
            "text/plain": [
              "<Figure size 432x288 with 1 Axes>"
            ]
          },
          "metadata": {}
        }
      ]
    },
    {
      "cell_type": "markdown",
      "source": [
        "Difference with teams with less than 81 wins have a spread of .315 to .33\n",
        "\n",
        "Teams with more than 81 wins have an Inter Qualrtile Range form .325 to .34 and teams that have less than 81 wins have an Inter Quartile Range from .315 to .33."
      ],
      "metadata": {
        "id": "aK06IczkmvCC"
      }
    },
    {
      "cell_type": "markdown",
      "source": [
        ""
      ],
      "metadata": {
        "id": "XEdDlEz2iWu7"
      }
    },
    {
      "cell_type": "code",
      "source": [
        "sns.boxplot(y='ERA', data=u_81)"
      ],
      "metadata": {
        "colab": {
          "base_uri": "https://localhost:8080/",
          "height": 267
        },
        "id": "GSPJmSokiWfC",
        "outputId": "cf13407d-9289-4c4b-b776-56dccabe9384"
      },
      "execution_count": null,
      "outputs": [
        {
          "output_type": "execute_result",
          "data": {
            "text/plain": [
              "<matplotlib.axes._subplots.AxesSubplot at 0x7f4d3f4f9210>"
            ]
          },
          "metadata": {},
          "execution_count": 16
        },
        {
          "output_type": "display_data",
          "data": {
            "image/png": "[encoded data removed]",
            "text/plain": [
              "<Figure size 432x288 with 1 Axes>"
            ]
          },
          "metadata": {}
        }
      ]
    },
    {
      "cell_type": "markdown",
      "source": [
        ""
      ],
      "metadata": {
        "id": "64zXvONoiXVv"
      }
    },
    {
      "cell_type": "code",
      "source": [
        "sns.boxplot(y='ERA', data=o_81)"
      ],
      "metadata": {
        "colab": {
          "base_uri": "https://localhost:8080/",
          "height": 266
        },
        "id": "XTZ3SsB4iWLR",
        "outputId": "c540fd7c-dc31-48d0-e51b-eac39b722aad"
      },
      "execution_count": null,
      "outputs": [
        {
          "output_type": "execute_result",
          "data": {
            "text/plain": [
              "<matplotlib.axes._subplots.AxesSubplot at 0x7f4d3f45c250>"
            ]
          },
          "metadata": {},
          "execution_count": 17
        },
        {
          "output_type": "display_data",
          "data": {
            "image/png": "[encoded data removed]",
            "text/plain": [
              "<Figure size 432x288 with 1 Axes>"
            ]
          },
          "metadata": {}
        }
      ]
    },
    {
      "cell_type": "markdown",
      "source": [
        "Teams with more than 81 wins have an Inter Qualrtile Range mostly below 4 and teams that have less than 81 wins have an Inter Quartile Range above 4."
      ],
      "metadata": {
        "id": "5VH3LZ4_ikkX"
      }
    },
    {
      "cell_type": "markdown",
      "source": [
        "#Results\n",
        "\n",
        "In reviewing the T-Test Results, we can determine that OBP and ERA have an impact on wins.  We want lower the teams ERA while increasing the teams OBP.\n",
        "\n",
        "Visulaized Below:\n"
      ],
      "metadata": {
        "id": "iJEVcnm1nSCs"
      }
    },
    {
      "cell_type": "code",
      "source": [
        "sns.scatterplot(x='W', y='ERA', data=OBP_df)"
      ],
      "metadata": {
        "colab": {
          "base_uri": "https://localhost:8080/",
          "height": 303
        },
        "id": "svVFzIX9qiCT",
        "outputId": "765c343f-62e7-4927-caf2-93930f8f9f1c"
      },
      "execution_count": null,
      "outputs": [
        {
          "output_type": "execute_result",
          "data": {
            "text/plain": [
              "<matplotlib.axes._subplots.AxesSubplot at 0x7fc47cf0be50>"
            ]
          },
          "metadata": {},
          "execution_count": 26
        },
        {
          "output_type": "display_data",
          "data": {
            "image/png": "[encoded data removed]",
            "text/plain": [
              "<Figure size 432x288 with 1 Axes>"
            ]
          },
          "metadata": {}
        }
      ]
    },
    {
      "cell_type": "code",
      "source": [
        "sns.scatterplot(x='W', y='OBP', data=OBP_df)"
      ],
      "metadata": {
        "colab": {
          "base_uri": "https://localhost:8080/",
          "height": 302
        },
        "id": "bL-l19emqyvb",
        "outputId": "26fe5da4-bcc4-4039-f165-ffd6298c3153"
      },
      "execution_count": null,
      "outputs": [
        {
          "output_type": "execute_result",
          "data": {
            "text/plain": [
              "<matplotlib.axes._subplots.AxesSubplot at 0x7fc47cec37d0>"
            ]
          },
          "metadata": {},
          "execution_count": 27
        },
        {
          "output_type": "display_data",
          "data": {
            "image/png": "[encoded data removed]",
            "text/plain": [
              "<Figure size 432x288 with 1 Axes>"
            ]
          },
          "metadata": {}
        }
      ]
    },
    {
      "cell_type": "code",
      "source": [
        "s_1 = u_81.shape[0]\n",
        "s_2 = o_81.shape[0]\n",
        "s_1_mean = u_81['ERA'].mean()\n",
        "s_2_mean = o_81['ERA'].mean()\n",
        "s_1_var = u_81['ERA'].var()\n",
        "s_2_var = o_81['ERA'].var()\n",
        "\n",
        "import math\n",
        "std_err_difference = math.sqrt((s_1_var/s_1)+(s_2_var/s_2))\n",
        "mean_difference = s_1_mean - s_2_mean\n",
        "\n",
        "margin_of_error = 1.96 * std_err_difference\n",
        "ci_lower = mean_difference - margin_of_error\n",
        "ci_upper = mean_difference + margin_of_error\n",
        "\n",
        "print(\"The means difference is at a 95% confidnece interval — between \"+str(ci_lower)+\" and \"+str(ci_upper)+\".\")"
      ],
      "metadata": {
        "colab": {
          "base_uri": "https://localhost:8080/"
        },
        "id": "3Abf4kZhrDM9",
        "outputId": "3747fa1e-2a61-41fd-a475-e7811a77e57e"
      },
      "execution_count": null,
      "outputs": [
        {
          "output_type": "stream",
          "name": "stdout",
          "text": [
            "The means difference is at a 95% confidnece interval — between 0.48171769230068606 and 0.5950096666372058.\n"
          ]
        }
      ]
    },
    {
      "cell_type": "markdown",
      "source": [
        "In review, in order to hit the magical plateau of achiving a wining season we will need to increase our OBP while lowering our ERA.\n",
        "\n",
        "How do we achive this?\n",
        "\n",
        "\n",
        "*  Pushout players who have a low ERA\n",
        "*  Obtain players who have an OBP\n",
        "\n",
        "By excuting this, we increase our chances of heading to the World Series!\n",
        "\n"
      ],
      "metadata": {
        "id": "f8AcCSsXtSEv"
      }
    }
  ]
}